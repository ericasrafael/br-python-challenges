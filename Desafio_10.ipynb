{
  "cells": [
    {
      "cell_type": "markdown",
      "metadata": {
        "id": "view-in-github",
        "colab_type": "text"
      },
      "source": [
        "<a href=\"https://colab.research.google.com/github/ericasrafael/br-python-challenges/blob/master/Desafio_10.ipynb\" target=\"_parent\"><img src=\"https://colab.research.google.com/assets/colab-badge.svg\" alt=\"Open In Colab\"/></a>"
      ]
    },
    {
      "cell_type": "markdown",
      "metadata": {
        "id": "a4-FLDRof6Jv"
      },
      "source": [
        "### Desafio 10\n",
        "\n",
        "Dada uma lista, divida-a em 3 partes iguais e reverta a ordem de cada lista.\n",
        "\n",
        "**Exemplo:** \n",
        "\n",
        "Entrada: \\\n",
        "sampleList = [11, 45, 8, 23, 14, 12, 78, 45, 89]\n",
        "\n",
        "Saída: \\\n",
        "Parte 1 [8, 45, 11] \\\n",
        "Parte 2 [12, 14, 23] \\\n",
        "Parte 3 [89, 45, 78] "
      ]
    },
    {
      "cell_type": "code",
      "execution_count": null,
      "metadata": {
        "id": "IJ70pUjnf6Jw"
      },
      "outputs": [],
      "source": [
        "# Seu código\n",
        "\n",
        "sampleList = [11, 45, 8, 23, 14, 12, 78, 45, 89]\n",
        "\n",
        "divisoes = len(sampleList)/3\n",
        "\n",
        "p1 = []\n",
        "p2 = []\n",
        "p3 = []\n",
        "\n",
        "if divisoes.is_integer():        # retorna true se o numero de divisoes for inteiro\n",
        "    for numero in sampleList:\n",
        "        if len(p1) < divisoes:\n",
        "            p1.append(numero)\n",
        "            parte1 = reversed(p1)\n",
        "        elif len(p2) < divisoes:\n",
        "            p2.append(numero)\n",
        "            parte2 = reversed(p2)\n",
        "        else: \n",
        "            len(p3) < divisoes\n",
        "            p3.append(numero)\n",
        "            parte3 = reversed(p3)\n",
        "    print(f'Parte 1: {list(parte1)}'\n",
        "        f'\\nParte 2: {list(parte2)}'\n",
        "        f'\\nParte 3: {list(parte3)}')\n",
        "else:\n",
        "    print(f'Sua lista não pode ser dividida em 3 partes iguais')"
      ]
    },
    {
      "cell_type": "code",
      "execution_count": null,
      "metadata": {
        "id": "pNrXNVqf8Wc1"
      },
      "outputs": [],
      "source": [
        ""
      ]
    }
  ],
  "metadata": {
    "anaconda-cloud": {},
    "colab": {
      "name": "Desafio 10.ipynb",
      "provenance": [],
      "include_colab_link": true
    },
    "kernelspec": {
      "display_name": "Python 3",
      "language": "python",
      "name": "python3"
    },
    "language_info": {
      "codemirror_mode": {
        "name": "ipython",
        "version": 3
      },
      "file_extension": ".py",
      "mimetype": "text/x-python",
      "name": "python",
      "nbconvert_exporter": "python",
      "pygments_lexer": "ipython3",
      "version": "3.7.9"
    }
  },
  "nbformat": 4,
  "nbformat_minor": 0
}